{
 "cells": [
  {
   "cell_type": "markdown",
   "metadata": {},
   "source": [
    "# Numpy \n",
    "## Python library \n",
    "### Numpy = <ins>Num</ins>erical <ins>py</ins>thon\n",
    "* Open source\n",
    "* Used in :\n",
    "    1. n-dimensional arrays, matrices implementation\n",
    "    2. Numerical analysis\n",
    "    3. **Machine Learning**, Deep Learning, Natural Language Processing etc."
   ]
  },
  {
   "cell_type": "markdown",
   "metadata": {},
   "source": [
    "## 1. Creating an array \n",
    "```python\n",
    "array = np.array([ele1,ele2,...])\n",
    "```"
   ]
  },
  {
   "cell_type": "markdown",
   "metadata": {},
   "source": [
    "### 1-D array"
   ]
  },
  {
   "cell_type": "code",
   "execution_count": 7,
   "metadata": {},
   "outputs": [],
   "source": [
    "import numpy as np"
   ]
  },
  {
   "cell_type": "markdown",
   "metadata": {},
   "source": [
    "The above command imports the library and assigns the alias name \"np\" to it.\n",
    "The alias is used to access all the functions in the library."
   ]
  },
  {
   "cell_type": "code",
   "execution_count": 3,
   "metadata": {},
   "outputs": [
    {
     "name": "stdout",
     "output_type": "stream",
     "text": [
      "[1 2 3 4 5]\n"
     ]
    }
   ],
   "source": [
    "arr1 = np.array([1,2,3,4,5])    # 1-d array with 5 elements\n",
    "print(arr)"
   ]
  },
  {
   "cell_type": "code",
   "execution_count": 4,
   "metadata": {},
   "outputs": [
    {
     "name": "stdout",
     "output_type": "stream",
     "text": [
      "<class 'numpy.ndarray'>\n"
     ]
    }
   ],
   "source": [
    "print(type(arr))"
   ]
  },
  {
   "cell_type": "markdown",
   "metadata": {},
   "source": [
    "Notice the type of numpy array declared."
   ]
  },
  {
   "cell_type": "markdown",
   "metadata": {},
   "source": [
    "### 2-D array"
   ]
  },
  {
   "cell_type": "code",
   "execution_count": 6,
   "metadata": {},
   "outputs": [
    {
     "name": "stdout",
     "output_type": "stream",
     "text": [
      "[[ 5  6  7]\n",
      " [10  9  8]\n",
      " [ 6  5  8]]\n"
     ]
    }
   ],
   "source": [
    "arr2 = np.array([[5,6,7],[10,9,8],[6,5,8]])    # 2-d array with 3 rows, 3 cols\n",
    "print(arr)"
   ]
  },
  {
   "cell_type": "markdown",
   "metadata": {},
   "source": [
    "## 2. Checking the Dimension of  an array\n",
    "```python\n",
    "var = array.ndim\n",
    "```"
   ]
  },
  {
   "cell_type": "code",
   "execution_count": 17,
   "metadata": {},
   "outputs": [
    {
     "name": "stdout",
     "output_type": "stream",
     "text": [
      "0\n",
      "1\n",
      "2\n",
      "3\n"
     ]
    }
   ],
   "source": [
    "a = np.array(9)\n",
    "b = np.array([1,2,3,4,5])\n",
    "c = np.array([[1,2,3,4],[9,8,7,6],[3,2,4,6],[1,8,5,7]])\n",
    "d = np.array([[[11,3,2,51],[7,5,3,8],[9,7,15,7],[9,6,4,5]]])\n",
    "\n",
    "print(a.ndim)\n",
    "print(b.ndim)\n",
    "print(c.ndim)\n",
    "print(d.ndim)"
   ]
  },
  {
   "cell_type": "markdown",
   "metadata": {},
   "source": [
    "The indexing in numpy array starts from 0, therefore, an array with one element has dimension 0 and so on."
   ]
  },
  {
   "cell_type": "code",
   "execution_count": 23,
   "metadata": {},
   "outputs": [
    {
     "name": "stdout",
     "output_type": "stream",
     "text": [
      "[[1 2 3]\n",
      " [1 2 3]\n",
      " [1 2 3]\n",
      " [1 2 3]]\n",
      "\n",
      "[list([9, 2]) list([1, 2, 3, 4]) list([1, 2, 3]) list([1, 2, 3])]\n",
      "\n",
      "1\n",
      "\n",
      "<class 'numpy.ndarray'>\n"
     ]
    }
   ],
   "source": [
    "a=np.array([[1,2,3],[1,2,3],[1,2,3],[1,2,3]])\n",
    "print(a)     # a 4x3 2d-array\n",
    "print()\n",
    "b = np.array([[9,2],[1,2,3,4],[1,2,3],[1,2,3]])\n",
    "print(b)\n",
    "print()\n",
    "print(b.ndim)\n",
    "print()\n",
    "print(type(b))"
   ]
  },
  {
   "cell_type": "markdown",
   "metadata": {},
   "source": [
    "Notice in the above output the array _b_ is actally an array of lists; this happens because the constituting row values are not of the same dimension.<br>\n",
    "* [9,2] dimension(dim) = 1\n",
    "* [1,2,3,4] dim = 3\n",
    "* [1,2,3] dim = 2"
   ]
  },
  {
   "cell_type": "markdown",
   "metadata": {},
   "source": [
    "## 3. Accessing array elements\n",
    "<p>We can access elements of any numpy array using indexing.</p>"
   ]
  },
  {
   "cell_type": "markdown",
   "metadata": {},
   "source": [
    "### 1-D array"
   ]
  },
  {
   "cell_type": "code",
   "execution_count": 28,
   "metadata": {},
   "outputs": [
    {
     "name": "stdout",
     "output_type": "stream",
     "text": [
      "[ 2  4  6  8 10]\n",
      "\n",
      "2\n",
      "8\n",
      "14\n"
     ]
    }
   ],
   "source": [
    "a = np.array([2,4,6,8,10])\n",
    "print(a)\n",
    "print()\n",
    "print(a[0])\n",
    "print(a[3])\n",
    "print(a[1]+a[4])"
   ]
  },
  {
   "cell_type": "markdown",
   "metadata": {},
   "source": [
    "### 2-D array"
   ]
  },
  {
   "cell_type": "code",
   "execution_count": 31,
   "metadata": {},
   "outputs": [
    {
     "name": "stdout",
     "output_type": "stream",
     "text": [
      "[[2 4 6]\n",
      " [3 5 7]]\n",
      "\n",
      "7\n",
      "\n",
      "[3 5 7]\n"
     ]
    }
   ],
   "source": [
    "b = np.array([[2,4,6],[3,5,7]])\n",
    "print(b)\n",
    "print()\n",
    "print(b[1,2])     # refers to row indexed 1 and col indexed 2\n",
    "print()\n",
    "print(b[1])"
   ]
  },
  {
   "cell_type": "markdown",
   "metadata": {},
   "source": [
    "_Remember_ : Indexing of rows and columns starts from 0."
   ]
  },
  {
   "cell_type": "markdown",
   "metadata": {},
   "source": [
    "## 3. Array slicing\n",
    "```python\n",
    "var = array[start:stop:step]\n",
    "```\n",
    "_start_ = starting index<br>\n",
    "_stop_ = 1 more than the stopping index<br>\n",
    "_step_ = size of step; by default=1<br>"
   ]
  },
  {
   "cell_type": "markdown",
   "metadata": {},
   "source": [
    "### 1-D array"
   ]
  },
  {
   "cell_type": "code",
   "execution_count": 201,
   "metadata": {},
   "outputs": [
    {
     "name": "stdout",
     "output_type": "stream",
     "text": [
      "[ 2  4  6  8 10  3  5  7  1]\n",
      "\n",
      "[2 4 6 8]\n",
      "\n",
      "[ 6  8 10  3  5]\n",
      "\n",
      "[5 7 1]\n",
      "\n",
      "[3 5 7]\n",
      "\n",
      "[4 8 3]\n",
      "\n",
      "[2 8 5]\n"
     ]
    }
   ],
   "source": [
    "arr = np.array([2,4,6,8,10,3,5,7,1])\n",
    "print(arr[:])\n",
    "print()\n",
    "print(arr[:4])\n",
    "print()\n",
    "x = arr[2:7]\n",
    "print(x)\n",
    "print()\n",
    "print(arr[6:])\n",
    "print()\n",
    "print(arr[-4:-1])\n",
    "print()\n",
    "print(arr[1:6:2])\n",
    "print()\n",
    "print(arr[::3])"
   ]
  },
  {
   "cell_type": "markdown",
   "metadata": {},
   "source": [
    "### 2-D array"
   ]
  },
  {
   "cell_type": "code",
   "execution_count": 40,
   "metadata": {},
   "outputs": [
    {
     "name": "stdout",
     "output_type": "stream",
     "text": [
      "[[ 2  4  6  1]\n",
      " [ 3  5  7  8]\n",
      " [ 9 10  5  4]]\n",
      "\n",
      "[5 7]\n",
      "\n",
      "[[2]\n",
      " [3]]\n",
      "\n",
      "[2 4 6]\n"
     ]
    }
   ],
   "source": [
    "arr = np.array([[2,4,6,1],[3,5,7,8],[9,10,5,4]])\n",
    "print(arr[:,:])\n",
    "print()\n",
    "print(arr[1,1:3])\n",
    "print()\n",
    "print(arr[0:2,:1])\n",
    "print()\n",
    "print(arr[0,0:3])"
   ]
  },
  {
   "cell_type": "markdown",
   "metadata": {},
   "source": [
    "## 4. Array shape"
   ]
  },
  {
   "cell_type": "code",
   "execution_count": 41,
   "metadata": {},
   "outputs": [
    {
     "name": "stdout",
     "output_type": "stream",
     "text": [
      "[[ 2  4  6  1]\n",
      " [ 3  5  7  8]\n",
      " [ 9 10  5  4]]\n",
      "\n",
      "(3, 4)\n"
     ]
    }
   ],
   "source": [
    "arr = np.array([[2,4,6,1],[3,5,7,8],[9,10,5,4]])\n",
    "print(arr)\n",
    "print()\n",
    "print(arr.shape)"
   ]
  },
  {
   "cell_type": "markdown",
   "metadata": {},
   "source": [
    "## 5. Array Reshaping\n",
    "```python\n",
    "new_array = array.reshape(rows,cols) #for 2-d array\n",
    "new_array = array.reshape(size_of_dim1,size_of_dim2,..) #for n-d array\n",
    "```"
   ]
  },
  {
   "cell_type": "code",
   "execution_count": 48,
   "metadata": {},
   "outputs": [
    {
     "name": "stdout",
     "output_type": "stream",
     "text": [
      "[[ 2]\n",
      " [ 4]\n",
      " [ 6]\n",
      " [ 1]\n",
      " [ 3]\n",
      " [ 5]\n",
      " [ 7]\n",
      " [ 8]\n",
      " [ 9]\n",
      " [10]\n",
      " [ 5]\n",
      " [ 4]]\n"
     ]
    }
   ],
   "source": [
    "arr = np.array([[2,4,6,1],[3,5,7,8],[9,10,5,4]])\n",
    "new_arr = arr.reshape(12,1)\n",
    "print(new_arr)"
   ]
  },
  {
   "cell_type": "code",
   "execution_count": 49,
   "metadata": {},
   "outputs": [
    {
     "name": "stdout",
     "output_type": "stream",
     "text": [
      "[[ 2  4  6  1  3  5  7  8  9 10  5  4]]\n"
     ]
    }
   ],
   "source": [
    "arr = np.array([[2,4,6,1],[3,5,7,8],[9,10,5,4]])\n",
    "new_arr = arr.reshape(1,12)\n",
    "print(new_arr)"
   ]
  },
  {
   "cell_type": "code",
   "execution_count": 50,
   "metadata": {},
   "outputs": [
    {
     "name": "stdout",
     "output_type": "stream",
     "text": [
      "[ 2  4  6  1  3  5  7  8  9 10  5  4]\n"
     ]
    }
   ],
   "source": [
    "arr = np.array([[2,4,6,1],[3,5,7,8],[9,10,5,4]])\n",
    "new_arr = arr.reshape(12)\n",
    "print(new_arr)"
   ]
  },
  {
   "cell_type": "code",
   "execution_count": 51,
   "metadata": {},
   "outputs": [
    {
     "name": "stdout",
     "output_type": "stream",
     "text": [
      "[[ 2  4  6  1]\n",
      " [ 3  5  7  8]\n",
      " [ 9 10  5  4]]\n"
     ]
    }
   ],
   "source": [
    "arr = np.array([[2,4,6,1],[3,5,7,8],[9,10,5,4]])\n",
    "new_arr = arr.reshape(3,4)\n",
    "print(new_arr)"
   ]
  },
  {
   "cell_type": "code",
   "execution_count": 206,
   "metadata": {},
   "outputs": [
    {
     "name": "stdout",
     "output_type": "stream",
     "text": [
      "[[[ 2  4]\n",
      "  [ 6  1]]\n",
      "\n",
      " [[ 3  5]\n",
      "  [ 7  8]]\n",
      "\n",
      " [[ 9 10]\n",
      "  [ 5  4]]]\n"
     ]
    }
   ],
   "source": [
    "arr = np.array([[2,4,6,1],[3,5,7,8],[9,10,5,4]])\n",
    "new_arr = arr.reshape(3,2,2)\n",
    "print(new_arr)"
   ]
  },
  {
   "cell_type": "markdown",
   "metadata": {},
   "source": [
    "## 6. arange method\n",
    "```python\n",
    "array = np.arange(start,stop,step)\n",
    "```\n",
    "_start_ = starting index<br>\n",
    "_stop_ = 1 more than the stopping index<br>\n",
    "_step_ = size of step; by default=1<br>"
   ]
  },
  {
   "cell_type": "code",
   "execution_count": 53,
   "metadata": {},
   "outputs": [
    {
     "name": "stdout",
     "output_type": "stream",
     "text": [
      "[0 1 2 3 4 5 6 7 8 9]\n",
      "[ 2  6 10 14 18]\n",
      "[ 5  6  7  8  9 10 11 12 13 14 15 16 17 18 19 20 21 22 23 24]\n"
     ]
    }
   ],
   "source": [
    "a = np.arange(10)   # 1 arg = stop\n",
    "print(a)\n",
    "b = np.arange(2,20,4)\n",
    "print(b)\n",
    "c = np.arange(5,25)\n",
    "print(c)"
   ]
  },
  {
   "cell_type": "markdown",
   "metadata": {},
   "source": [
    "## 7. Iterating arrays "
   ]
  },
  {
   "cell_type": "markdown",
   "metadata": {},
   "source": [
    "###  Using for loop"
   ]
  },
  {
   "cell_type": "code",
   "execution_count": 58,
   "metadata": {},
   "outputs": [
    {
     "name": "stdout",
     "output_type": "stream",
     "text": [
      "2\n",
      "4\n",
      "6\n",
      "8\n",
      "10\n",
      "3\n",
      "5\n",
      "7\n",
      "1\n"
     ]
    }
   ],
   "source": [
    "arr = np.array([2,4,6,8,10,3,5,7,1])\n",
    "for x in arr:\n",
    "    print(x)"
   ]
  },
  {
   "cell_type": "code",
   "execution_count": 61,
   "metadata": {},
   "outputs": [
    {
     "name": "stdout",
     "output_type": "stream",
     "text": [
      "2\n",
      "4\n",
      "6\n",
      "1\n",
      "3\n",
      "5\n",
      "7\n",
      "8\n",
      "9\n",
      "10\n",
      "5\n",
      "4\n"
     ]
    }
   ],
   "source": [
    "arr = np.array([[2,4,6,1],[3,5,7,8],[9,10,5,4]])\n",
    "for x in arr:\n",
    "    for y in x:\n",
    "        print(y)"
   ]
  },
  {
   "cell_type": "code",
   "execution_count": 73,
   "metadata": {},
   "outputs": [
    {
     "name": "stdout",
     "output_type": "stream",
     "text": [
      "3\n",
      "\n",
      "1\n",
      "2\n",
      "3\n",
      "4\n",
      "5\n",
      "6\n",
      "7\n",
      "8\n",
      "9\n"
     ]
    }
   ],
   "source": [
    "arr = np.array([[[1,2,3],[4,5,6],[7,8,9]]])\n",
    "print(arr.ndim)\n",
    "\n",
    "print()\n",
    "\n",
    "for i in arr:\n",
    "    for j in i:\n",
    "        for k in j:\n",
    "            print(k)"
   ]
  },
  {
   "cell_type": "markdown",
   "metadata": {},
   "source": [
    "### Using nditer()\n",
    "Easy way of iterating multidimensional arrays"
   ]
  },
  {
   "cell_type": "code",
   "execution_count": 77,
   "metadata": {},
   "outputs": [
    {
     "name": "stdout",
     "output_type": "stream",
     "text": [
      "[[[[1 2 3]\n",
      "   [9 4 6]]\n",
      "\n",
      "  [[4 5 6]\n",
      "   [7 8 9]]]]\n",
      "4\n"
     ]
    }
   ],
   "source": [
    "arr = np.array([[[[1,2,3],[9,4,6]],[[4,5,6],[7,8,9]]]])\n",
    "print(arr)\n",
    "print(arr.ndim)"
   ]
  },
  {
   "cell_type": "code",
   "execution_count": 80,
   "metadata": {},
   "outputs": [
    {
     "name": "stdout",
     "output_type": "stream",
     "text": [
      "1\n",
      "2\n",
      "3\n",
      "9\n",
      "4\n",
      "6\n",
      "4\n",
      "5\n",
      "6\n",
      "7\n",
      "8\n",
      "9\n"
     ]
    }
   ],
   "source": [
    "for i in np.nditer(arr):\n",
    "    print(i)"
   ]
  },
  {
   "cell_type": "markdown",
   "metadata": {},
   "source": [
    "## 8. Concatenate "
   ]
  },
  {
   "cell_type": "code",
   "execution_count": 81,
   "metadata": {},
   "outputs": [
    {
     "name": "stdout",
     "output_type": "stream",
     "text": [
      "[1, 2, 3, 4, 9, 5, 3]\n"
     ]
    }
   ],
   "source": [
    "a1 = [1,2,3,4]\n",
    "a2 = [9,5,3]\n",
    "print(a1+a2)"
   ]
  },
  {
   "cell_type": "code",
   "execution_count": 83,
   "metadata": {},
   "outputs": [
    {
     "name": "stdout",
     "output_type": "stream",
     "text": [
      "[1 2 3 4 9 5 3]\n"
     ]
    }
   ],
   "source": [
    "a = np.concatenate((a1,a2))\n",
    "print(a)"
   ]
  },
  {
   "cell_type": "code",
   "execution_count": 88,
   "metadata": {},
   "outputs": [
    {
     "name": "stdout",
     "output_type": "stream",
     "text": [
      "[[1 2]\n",
      " [3 4]\n",
      " [9 5]\n",
      " [1 3]]\n"
     ]
    }
   ],
   "source": [
    "a1 = [[1,2],[3,4]]\n",
    "a2 = [[9,5],[1,3]]\n",
    "a = np.concatenate((a1,a2))\n",
    "print(a)"
   ]
  },
  {
   "cell_type": "code",
   "execution_count": 89,
   "metadata": {},
   "outputs": [
    {
     "name": "stdout",
     "output_type": "stream",
     "text": [
      "[[1 2 9 5]\n",
      " [3 4 1 3]]\n"
     ]
    }
   ],
   "source": [
    "a = np.concatenate((a1,a2),axis=1)\n",
    "print(a)"
   ]
  },
  {
   "cell_type": "markdown",
   "metadata": {},
   "source": [
    "## 9. Searching"
   ]
  },
  {
   "cell_type": "code",
   "execution_count": 90,
   "metadata": {},
   "outputs": [
    {
     "name": "stdout",
     "output_type": "stream",
     "text": [
      "(array([4]),)\n"
     ]
    }
   ],
   "source": [
    "arr = np.array([2,4,6,8,10,3,5,7,1])\n",
    "y = np.where(arr == 10)\n",
    "print(y)"
   ]
  },
  {
   "cell_type": "code",
   "execution_count": 91,
   "metadata": {},
   "outputs": [
    {
     "name": "stdout",
     "output_type": "stream",
     "text": [
      "(array([0, 1, 2, 3, 4]),)\n"
     ]
    }
   ],
   "source": [
    "y = np.where(arr%2 == 0)\n",
    "print(y)"
   ]
  },
  {
   "cell_type": "markdown",
   "metadata": {},
   "source": [
    "## 10. Sorting array"
   ]
  },
  {
   "cell_type": "code",
   "execution_count": 93,
   "metadata": {},
   "outputs": [
    {
     "name": "stdout",
     "output_type": "stream",
     "text": [
      "[ 4 11 23 30 66]\n"
     ]
    }
   ],
   "source": [
    "arr = np.array([23,66,4,11,30])\n",
    "print(np.sort(arr))"
   ]
  },
  {
   "cell_type": "code",
   "execution_count": 95,
   "metadata": {},
   "outputs": [
    {
     "name": "stdout",
     "output_type": "stream",
     "text": [
      "['Bird' 'Good' 'Little' 'Things']\n"
     ]
    }
   ],
   "source": [
    "b = np.array([\"Little\",\"Bird\",\"Things\",\"Good\"])\n",
    "print(np.sort(b))"
   ]
  },
  {
   "cell_type": "code",
   "execution_count": 99,
   "metadata": {},
   "outputs": [
    {
     "name": "stdout",
     "output_type": "stream",
     "text": [
      "[[1 2]\n",
      " [3 4]]\n",
      "\n",
      "[[[[ 2 11 30]\n",
      "   [ 4 16 59]]\n",
      "\n",
      "  [[ 4  6 35]\n",
      "   [ 9 17 85]]]]\n"
     ]
    }
   ],
   "source": [
    "a1 = [[1,2],[3,4]]\n",
    "print(np.sort(a1))\n",
    "print()\n",
    "arr = np.array([[[[11,2,30],[59,4,16]],[[4,35,6],[17,85,9]]]])\n",
    "print(np.sort(arr))"
   ]
  },
  {
   "cell_type": "markdown",
   "metadata": {},
   "source": [
    "## 11. Shuffle and Permutation\n",
    "* Permutation creates a new array, original unchanged\n",
    "* Shuffle changes the original array"
   ]
  },
  {
   "cell_type": "code",
   "execution_count": 122,
   "metadata": {},
   "outputs": [
    {
     "name": "stdout",
     "output_type": "stream",
     "text": [
      "[8 6 7 5 9]\n",
      "None\n"
     ]
    }
   ],
   "source": [
    "from numpy import random\n",
    "import numpy as np\n",
    "a = np.array([9,8,7,6,5])\n",
    "b = random.shuffle(a)\n",
    "print(a)\n",
    "print(b)"
   ]
  },
  {
   "cell_type": "markdown",
   "metadata": {},
   "source": [
    "_Notice_ running the cell again and again gives different results.<br>\n",
    "```python print(b)``` gives None cause shuffle() doesn't create a new array."
   ]
  },
  {
   "cell_type": "code",
   "execution_count": 210,
   "metadata": {},
   "outputs": [
    {
     "name": "stdout",
     "output_type": "stream",
     "text": [
      "[8 9 6 7 5]\n",
      "[9 8 7 6 5]\n"
     ]
    }
   ],
   "source": [
    "a = np.array([9,8,7,6,5])\n",
    "b = random.permutation(a)\n",
    "print(b)\n",
    "print(a)"
   ]
  },
  {
   "cell_type": "markdown",
   "metadata": {},
   "source": [
    "## 12 Matrix operations"
   ]
  },
  {
   "cell_type": "markdown",
   "metadata": {},
   "source": [
    "### Addition"
   ]
  },
  {
   "cell_type": "code",
   "execution_count": 128,
   "metadata": {},
   "outputs": [
    {
     "name": "stdout",
     "output_type": "stream",
     "text": [
      "[[1 3 5]\n",
      " [4 2 6]\n",
      " [7 8 9]]\n",
      "[[11 14 19]\n",
      " [ 7  9  4]\n",
      " [20 26 17]]\n",
      "\n",
      "[[12 17 24]\n",
      " [11 11 10]\n",
      " [27 34 26]]\n"
     ]
    }
   ],
   "source": [
    "matrix_1 = np.array([[1,3,5],[4,2,6],[7,8,9]])\n",
    "matrix_2 = np.array([[11,14,19],[7,9,4],[20,26,17]])\n",
    "print(matrix_1)\n",
    "print(matrix_2)\n",
    "print()\n",
    "add = matrix_1 + matrix_2\n",
    "print(add)"
   ]
  },
  {
   "cell_type": "markdown",
   "metadata": {},
   "source": [
    "### Subtraction"
   ]
  },
  {
   "cell_type": "code",
   "execution_count": 125,
   "metadata": {},
   "outputs": [
    {
     "name": "stdout",
     "output_type": "stream",
     "text": [
      "[[-10 -11 -14]\n",
      " [ -3  -7   2]\n",
      " [-13 -18  -8]]\n"
     ]
    }
   ],
   "source": [
    "sub = matrix_1 - matrix_2\n",
    "print(sub)"
   ]
  },
  {
   "cell_type": "markdown",
   "metadata": {},
   "source": [
    "### Multiplication"
   ]
  },
  {
   "cell_type": "code",
   "execution_count": 127,
   "metadata": {},
   "outputs": [
    {
     "name": "stdout",
     "output_type": "stream",
     "text": [
      "[[ 11  42  95]\n",
      " [ 28  18  24]\n",
      " [140 208 153]]\n"
     ]
    }
   ],
   "source": [
    "mult = matrix_1 * matrix_2\n",
    "print(mult)"
   ]
  },
  {
   "cell_type": "markdown",
   "metadata": {},
   "source": [
    "### Transpose"
   ]
  },
  {
   "cell_type": "code",
   "execution_count": 130,
   "metadata": {},
   "outputs": [
    {
     "name": "stdout",
     "output_type": "stream",
     "text": [
      "Original matrix :\n",
      "[[11 14 19]\n",
      " [ 7  9  4]\n",
      " [20 26 17]]\n",
      "\n",
      "Transpose :\n",
      "[[11  7 20]\n",
      " [14  9 26]\n",
      " [19  4 17]]\n"
     ]
    }
   ],
   "source": [
    "matrix_2 = np.array([[11,14,19],[7,9,4],[20,26,17]])\n",
    "print(\"Original matrix :\")\n",
    "print(matrix_2)\n",
    "print()\n",
    "print('Transpose :')\n",
    "print(matrix_2.T)"
   ]
  },
  {
   "cell_type": "markdown",
   "metadata": {},
   "source": [
    "### Diagonals"
   ]
  },
  {
   "cell_type": "code",
   "execution_count": 134,
   "metadata": {},
   "outputs": [
    {
     "name": "stdout",
     "output_type": "stream",
     "text": [
      "[[11 14 19]\n",
      " [ 7  9  4]\n",
      " [20 26 17]]\n",
      "Diagonal values :  [11  9 17]\n",
      "Second diagonal matrix :  [19  9 20]\n"
     ]
    }
   ],
   "source": [
    "matrix_1 = np.array([[11,14,19],[7,9,4],[20,26,17]])\n",
    "print(matrix_1)\n",
    "print(\"Diagonal values : \",matrix_1.diagonal())\n",
    "\n",
    "rot_matrix_1 = np.rot90(matrix_1)\n",
    "print(\"Second diagonal matrix : \",rot_matrix_1.diagonal())"
   ]
  },
  {
   "cell_type": "markdown",
   "metadata": {},
   "source": [
    "### Sum of diagonal elements"
   ]
  },
  {
   "cell_type": "code",
   "execution_count": 136,
   "metadata": {},
   "outputs": [
    {
     "name": "stdout",
     "output_type": "stream",
     "text": [
      "[[11 14 19]\n",
      " [ 7  9  4]\n",
      " [20 26 17]]\n",
      "Sum of diagonal elements :  37\n"
     ]
    }
   ],
   "source": [
    "matrix_1 = np.array([[11,14,19],[7,9,4],[20,26,17]])\n",
    "print(matrix_1)\n",
    "print(\"Sum of diagonal elements : \",np.trace(matrix_1))"
   ]
  },
  {
   "cell_type": "markdown",
   "metadata": {},
   "source": [
    "### Finding minimum and maximum elements"
   ]
  },
  {
   "cell_type": "code",
   "execution_count": 137,
   "metadata": {},
   "outputs": [
    {
     "name": "stdout",
     "output_type": "stream",
     "text": [
      "[[11 14 19]\n",
      " [ 7  9  4]\n",
      " [20 26 17]]\n",
      "Maximum value is :  26\n",
      "Maximum value is :  4\n"
     ]
    }
   ],
   "source": [
    "m = np.array([[11,14,19],[7,9,4],[20,26,17]])\n",
    "print(m)\n",
    "print(\"Maximum value is : \",np.max(m))\n",
    "print(\"Maximum value is : \",np.min(m))"
   ]
  },
  {
   "cell_type": "markdown",
   "metadata": {},
   "source": [
    "### Mean, median, standard deviation, variance"
   ]
  },
  {
   "cell_type": "code",
   "execution_count": 142,
   "metadata": {},
   "outputs": [
    {
     "name": "stdout",
     "output_type": "stream",
     "text": [
      "[[11 14 19]\n",
      " [ 7  9  4]\n",
      " [20 26 17]]\n",
      "Mean :  14.11111111111111\n",
      "Median :  14.0\n",
      "Variance :  44.09876543209876\n",
      "Standard deviation :  6.640690132215082\n"
     ]
    }
   ],
   "source": [
    "m = np.array([[11,14,19],[7,9,4],[20,26,17]])\n",
    "print(m)\n",
    "print(\"Mean : \",np.mean(m))\n",
    "print(\"Median : \",np.median(m))\n",
    "print(\"Variance : \",np.var(m))\n",
    "print(\"Standard deviation : \",np.std(m))"
   ]
  },
  {
   "cell_type": "markdown",
   "metadata": {},
   "source": [
    "## 13. Matrix operations using functions"
   ]
  },
  {
   "cell_type": "code",
   "execution_count": 143,
   "metadata": {},
   "outputs": [],
   "source": [
    "arr1 = np.array([4,3,7,6,10,8])\n",
    "arr2 = np.array([16,9,25,6,1,2])"
   ]
  },
  {
   "cell_type": "markdown",
   "metadata": {},
   "source": [
    "### Addition"
   ]
  },
  {
   "cell_type": "code",
   "execution_count": 144,
   "metadata": {},
   "outputs": [
    {
     "name": "stdout",
     "output_type": "stream",
     "text": [
      "Addition :  [20 12 32 12 11 10]\n"
     ]
    }
   ],
   "source": [
    "print(\"Addition : \",np.add(arr1,arr2))"
   ]
  },
  {
   "cell_type": "markdown",
   "metadata": {},
   "source": [
    "### Subtraction"
   ]
  },
  {
   "cell_type": "code",
   "execution_count": 145,
   "metadata": {},
   "outputs": [
    {
     "name": "stdout",
     "output_type": "stream",
     "text": [
      "Subtraction :  [-12  -6 -18   0   9   6]\n"
     ]
    }
   ],
   "source": [
    "print(\"Subtraction : \",np.subtract(arr1,arr2))"
   ]
  },
  {
   "cell_type": "markdown",
   "metadata": {},
   "source": [
    "### Division"
   ]
  },
  {
   "cell_type": "code",
   "execution_count": 146,
   "metadata": {},
   "outputs": [
    {
     "name": "stdout",
     "output_type": "stream",
     "text": [
      "Divide :  [ 0.25        0.33333333  0.28        1.         10.          4.        ]\n"
     ]
    }
   ],
   "source": [
    "print(\"Divide : \",np.divide(arr1,arr2))"
   ]
  },
  {
   "cell_type": "markdown",
   "metadata": {},
   "source": [
    "### Multiplication"
   ]
  },
  {
   "cell_type": "code",
   "execution_count": 147,
   "metadata": {},
   "outputs": [
    {
     "name": "stdout",
     "output_type": "stream",
     "text": [
      "Multiply :  [ 64  27 175  36  10  16]\n"
     ]
    }
   ],
   "source": [
    "print(\"Multiply : \",np.multiply(arr1,arr2))"
   ]
  },
  {
   "cell_type": "markdown",
   "metadata": {},
   "source": [
    "### Dot product"
   ]
  },
  {
   "cell_type": "code",
   "execution_count": 150,
   "metadata": {},
   "outputs": [
    {
     "name": "stdout",
     "output_type": "stream",
     "text": [
      "Dot product :  328\n"
     ]
    }
   ],
   "source": [
    "print(\"Dot product : \",np.dot(arr1,arr2))"
   ]
  },
  {
   "cell_type": "markdown",
   "metadata": {},
   "source": [
    "### Square root"
   ]
  },
  {
   "cell_type": "code",
   "execution_count": 151,
   "metadata": {},
   "outputs": [
    {
     "name": "stdout",
     "output_type": "stream",
     "text": [
      "Square root :  [4.         3.         5.         2.44948974 1.         1.41421356]\n"
     ]
    }
   ],
   "source": [
    "print(\"Square root : \",np.sqrt(arr2))"
   ]
  },
  {
   "cell_type": "markdown",
   "metadata": {},
   "source": [
    "## 14. Abstract value"
   ]
  },
  {
   "cell_type": "code",
   "execution_count": 152,
   "metadata": {},
   "outputs": [
    {
     "name": "stdout",
     "output_type": "stream",
     "text": [
      "[ 1  5  6  2 10  5]\n"
     ]
    }
   ],
   "source": [
    "a = np.array([-1,5,6,-2,10,-5])\n",
    "new_a = np.absolute(a)\n",
    "print(new_a)"
   ]
  },
  {
   "cell_type": "markdown",
   "metadata": {},
   "source": [
    "## 15. Rounding decimals"
   ]
  },
  {
   "cell_type": "code",
   "execution_count": 160,
   "metadata": {},
   "outputs": [
    {
     "name": "stdout",
     "output_type": "stream",
     "text": [
      "[-4.  4.]\n",
      "[ 10. 747.]\n",
      "[  9.55 746.57]\n"
     ]
    }
   ],
   "source": [
    "b = np.trunc([-4.35869475819,4.868757])\n",
    "print(b)\n",
    "\n",
    "c = np.around([9.549876,746.571674])\n",
    "print(c)\n",
    "\n",
    "c = np.around([9.549876,746.571674],2)\n",
    "print(c)"
   ]
  },
  {
   "cell_type": "code",
   "execution_count": 161,
   "metadata": {},
   "outputs": [
    {
     "name": "stdout",
     "output_type": "stream",
     "text": [
      "[6. 9.]\n",
      "[ 7. 10.]\n"
     ]
    }
   ],
   "source": [
    "a = np.floor([6.85784,9.73715])\n",
    "print(a)\n",
    "\n",
    "b = np.ceil([6.85784,9.73715])\n",
    "print(b)"
   ]
  },
  {
   "cell_type": "markdown",
   "metadata": {},
   "source": [
    "## 16. Summation"
   ]
  },
  {
   "cell_type": "code",
   "execution_count": 167,
   "metadata": {},
   "outputs": [
    {
     "name": "stdout",
     "output_type": "stream",
     "text": [
      "60\n"
     ]
    }
   ],
   "source": [
    "print(np.sum([10,20,30]))"
   ]
  },
  {
   "cell_type": "code",
   "execution_count": 166,
   "metadata": {},
   "outputs": [
    {
     "name": "stdout",
     "output_type": "stream",
     "text": [
      "44\n"
     ]
    }
   ],
   "source": [
    "array1 = np.array([1,3,5,7])\n",
    "array2 = np.array([1,10,9,8])\n",
    "s = np.sum([array1,array2])\n",
    "print(s)"
   ]
  },
  {
   "cell_type": "markdown",
   "metadata": {},
   "source": [
    "## 17. Product"
   ]
  },
  {
   "cell_type": "code",
   "execution_count": 169,
   "metadata": {},
   "outputs": [
    {
     "name": "stdout",
     "output_type": "stream",
     "text": [
      "24\n"
     ]
    }
   ],
   "source": [
    "print(np.product([2,1,3,4]))"
   ]
  },
  {
   "cell_type": "code",
   "execution_count": 175,
   "metadata": {},
   "outputs": [
    {
     "name": "stdout",
     "output_type": "stream",
     "text": [
      "57.60000000000001\n",
      "58.0\n"
     ]
    }
   ],
   "source": [
    "a = np.array([1.6,3.6,5,2])\n",
    "print(np.prod(a))\n",
    "x = np.ceil(np.prod(a))\n",
    "print(x)"
   ]
  },
  {
   "cell_type": "markdown",
   "metadata": {},
   "source": [
    "## 18. Set operations"
   ]
  },
  {
   "cell_type": "code",
   "execution_count": 176,
   "metadata": {},
   "outputs": [
    {
     "name": "stdout",
     "output_type": "stream",
     "text": [
      "[2 4 6 7]\n"
     ]
    }
   ],
   "source": [
    "arr1 = np.array([2,4,7,6,2,6,4,2])\n",
    "x = np.unique(arr)\n",
    "print(x)"
   ]
  },
  {
   "cell_type": "code",
   "execution_count": 182,
   "metadata": {},
   "outputs": [
    {
     "name": "stdout",
     "output_type": "stream",
     "text": [
      "[1 2 3 4 5 6 7]\n"
     ]
    }
   ],
   "source": [
    "arr2 = np.array([1,3,5,7])\n",
    "union_arr = np.union1d(x,arr2)\n",
    "print(union_arr)"
   ]
  },
  {
   "cell_type": "code",
   "execution_count": 186,
   "metadata": {},
   "outputs": [
    {
     "name": "stdout",
     "output_type": "stream",
     "text": [
      "[2 7]\n"
     ]
    }
   ],
   "source": [
    "arr2 = np.array([1,3,5,7,2])\n",
    "intersect_arr = np.intersect1d(x,arr2)\n",
    "print(intersect_arr)"
   ]
  },
  {
   "cell_type": "markdown",
   "metadata": {},
   "source": [
    "## 19 Additional arrays"
   ]
  },
  {
   "cell_type": "markdown",
   "metadata": {},
   "source": [
    "### Creating an array of all zeros"
   ]
  },
  {
   "cell_type": "code",
   "execution_count": 190,
   "metadata": {},
   "outputs": [
    {
     "name": "stdout",
     "output_type": "stream",
     "text": [
      "[[0. 0. 0.]\n",
      " [0. 0. 0.]\n",
      " [0. 0. 0.]\n",
      " [0. 0. 0.]]\n"
     ]
    }
   ],
   "source": [
    "a = np.zeros((4,3))\n",
    "print(a)"
   ]
  },
  {
   "cell_type": "markdown",
   "metadata": {},
   "source": [
    "### Creating an array of all ones"
   ]
  },
  {
   "cell_type": "code",
   "execution_count": 192,
   "metadata": {},
   "outputs": [
    {
     "name": "stdout",
     "output_type": "stream",
     "text": [
      "[[1. 1. 1.]\n",
      " [1. 1. 1.]\n",
      " [1. 1. 1.]]\n"
     ]
    }
   ],
   "source": [
    "a = np.ones((3,3))\n",
    "print(a)"
   ]
  },
  {
   "cell_type": "markdown",
   "metadata": {},
   "source": [
    "### Creating a constant array"
   ]
  },
  {
   "cell_type": "code",
   "execution_count": 194,
   "metadata": {},
   "outputs": [
    {
     "name": "stdout",
     "output_type": "stream",
     "text": [
      "[[5 5 5 5]\n",
      " [5 5 5 5]\n",
      " [5 5 5 5]\n",
      " [5 5 5 5]]\n"
     ]
    }
   ],
   "source": [
    "a = np.full((4,4),5)\n",
    "print(a)"
   ]
  },
  {
   "cell_type": "markdown",
   "metadata": {},
   "source": [
    "### Creating identity matrices"
   ]
  },
  {
   "cell_type": "code",
   "execution_count": 196,
   "metadata": {},
   "outputs": [
    {
     "name": "stdout",
     "output_type": "stream",
     "text": [
      "[[1. 0. 0. 0. 0.]\n",
      " [0. 1. 0. 0. 0.]\n",
      " [0. 0. 1. 0. 0.]\n",
      " [0. 0. 0. 1. 0.]\n",
      " [0. 0. 0. 0. 1.]]\n"
     ]
    }
   ],
   "source": [
    "a = np.eye(5)\n",
    "print(a)"
   ]
  },
  {
   "cell_type": "markdown",
   "metadata": {},
   "source": [
    "### Creating randomly filled array"
   ]
  },
  {
   "cell_type": "code",
   "execution_count": 200,
   "metadata": {},
   "outputs": [
    {
     "name": "stdout",
     "output_type": "stream",
     "text": [
      "[[0.25828736 0.81596322 0.13948529 0.45073334]\n",
      " [0.87952445 0.44411235 0.25020352 0.56761355]\n",
      " [0.14174961 0.20886117 0.19135346 0.80549334]\n",
      " [0.24396184 0.83447688 0.30811841 0.6873483 ]]\n"
     ]
    }
   ],
   "source": [
    "a = np.random.random((4,4))\n",
    "print(a)"
   ]
  }
 ],
 "metadata": {
  "kernelspec": {
   "display_name": "Python 3",
   "language": "python",
   "name": "python3"
  },
  "language_info": {
   "codemirror_mode": {
    "name": "ipython",
    "version": 3
   },
   "file_extension": ".py",
   "mimetype": "text/x-python",
   "name": "python",
   "nbconvert_exporter": "python",
   "pygments_lexer": "ipython3",
   "version": "3.8.3"
  }
 },
 "nbformat": 4,
 "nbformat_minor": 4
}
