{
 "cells": [
  {
   "cell_type": "markdown",
   "metadata": {},
   "source": [
    "# Polynomial Linear Regression "
   ]
  },
  {
   "cell_type": "markdown",
   "metadata": {},
   "source": [
    "When dependent feature changes non-linearly with the independent feature(s) we cannot use a Simple Linear Regression model. We then use tranformation and fit the data into a Polynomial Linear Regression model."
   ]
  },
  {
   "cell_type": "code",
   "execution_count": 11,
   "metadata": {},
   "outputs": [
    {
     "name": "stdout",
     "output_type": "stream",
     "text": [
      "    Level  Basic Salary\n",
      "0       1         18000\n",
      "1       2         19900\n",
      "2       3         21700\n",
      "3       4         25500\n",
      "4       5         29200\n",
      "5       6         35400\n",
      "6       7         44900\n",
      "7       8         47600\n",
      "8       9         53100\n",
      "9      10         56100\n",
      "10     11         67700\n",
      "11     12         78800\n",
      "12     13        118500\n",
      "13     14        131100\n",
      "14     15        144200\n",
      "15     16        182200\n",
      "16     17        205400\n",
      "17     18        225000\n",
      "18     19        250000\n"
     ]
    }
   ],
   "source": [
    "import pandas as pd\n",
    "import numpy as np\n",
    "import matplotlib.pyplot as plt\n",
    "\n",
    "data = pd.read_csv(\"7thPayMatrix.csv\")\n",
    "print(data)"
   ]
  },
  {
   "cell_type": "code",
   "execution_count": 12,
   "metadata": {},
   "outputs": [
    {
     "data": {
      "image/png": "[encoded data removed]",
      "text/plain": [
       "<Figure size 432x288 with 1 Axes>"
      ]
     },
     "metadata": {
      "needs_background": "light"
     },
     "output_type": "display_data"
    }
   ],
   "source": [
    "x = data.iloc[:,0:1].values\n",
    "y = data.iloc[:,1:2].values\n",
    "plt.scatter(x,y,color=\"red\")\n",
    "plt.xlabel(\"Level\")\n",
    "plt.ylabel(\"Salary\")\n",
    "plt.show()"
   ]
  },
  {
   "cell_type": "code",
   "execution_count": 13,
   "metadata": {},
   "outputs": [
    {
     "name": "stdout",
     "output_type": "stream",
     "text": [
      "[[1.000e+00 1.000e+00 1.000e+00 1.000e+00]\n",
      " [1.000e+00 2.000e+00 4.000e+00 8.000e+00]\n",
      " [1.000e+00 3.000e+00 9.000e+00 2.700e+01]\n",
      " [1.000e+00 4.000e+00 1.600e+01 6.400e+01]\n",
      " [1.000e+00 5.000e+00 2.500e+01 1.250e+02]\n",
      " [1.000e+00 6.000e+00 3.600e+01 2.160e+02]\n",
      " [1.000e+00 7.000e+00 4.900e+01 3.430e+02]\n",
      " [1.000e+00 8.000e+00 6.400e+01 5.120e+02]\n",
      " [1.000e+00 9.000e+00 8.100e+01 7.290e+02]\n",
      " [1.000e+00 1.000e+01 1.000e+02 1.000e+03]\n",
      " [1.000e+00 1.100e+01 1.210e+02 1.331e+03]\n",
      " [1.000e+00 1.200e+01 1.440e+02 1.728e+03]\n",
      " [1.000e+00 1.300e+01 1.690e+02 2.197e+03]\n",
      " [1.000e+00 1.400e+01 1.960e+02 2.744e+03]\n",
      " [1.000e+00 1.500e+01 2.250e+02 3.375e+03]\n",
      " [1.000e+00 1.600e+01 2.560e+02 4.096e+03]\n",
      " [1.000e+00 1.700e+01 2.890e+02 4.913e+03]\n",
      " [1.000e+00 1.800e+01 3.240e+02 5.832e+03]\n",
      " [1.000e+00 1.900e+01 3.610e+02 6.859e+03]]\n"
     ]
    }
   ],
   "source": [
    "#transforming data into polynomial type\n",
    "\n",
    "from sklearn.preprocessing import PolynomialFeatures\n",
    "obj = PolynomialFeatures(degree = 3)\n",
    "x_transformed = obj.fit_transform(x) #tranforming data\n",
    "print(x_transformed)"
   ]
  },
  {
   "cell_type": "code",
   "execution_count": 14,
   "metadata": {},
   "outputs": [
    {
     "data": {
      "text/plain": [
       "LinearRegression()"
      ]
     },
     "execution_count": 14,
     "metadata": {},
     "output_type": "execute_result"
    }
   ],
   "source": [
    "#preprocessing\n",
    "from sklearn.linear_model import LinearRegression\n",
    "model = LinearRegression()\n",
    "model.fit(x_transformed,y)  #training data"
   ]
  },
  {
   "cell_type": "code",
   "execution_count": 15,
   "metadata": {},
   "outputs": [
    {
     "name": "stdout",
     "output_type": "stream",
     "text": [
      "[[ 20657.41626794]\n",
      " [ 20796.33173844]\n",
      " [ 21860.9531851 ]\n",
      " [ 23965.0694249 ]\n",
      " [ 27222.46927479]\n",
      " [ 31746.94155174]\n",
      " [ 37652.27507271]\n",
      " [ 45052.25865466]\n",
      " [ 54060.68111455]\n",
      " [ 64791.33126935]\n",
      " [ 77357.99793602]\n",
      " [ 91874.46993151]\n",
      " [108454.5360728 ]\n",
      " [127211.98517685]\n",
      " [148260.60606061]\n",
      " [171714.18754105]\n",
      " [197686.51843513]\n",
      " [226291.38755981]\n",
      " [257642.58373206]]\n"
     ]
    }
   ],
   "source": [
    "y1=model.predict(x_transformed)\n",
    "print(y1)"
   ]
  },
  {
   "cell_type": "code",
   "execution_count": 16,
   "metadata": {},
   "outputs": [
    {
     "data": {
      "image/png": "[encoded data removed]",
      "text/plain": [
       "<Figure size 432x288 with 1 Axes>"
      ]
     },
     "metadata": {
      "needs_background": "light"
     },
     "output_type": "display_data"
    }
   ],
   "source": [
    "#graph\n",
    "plt.scatter(x,y,color=\"red\")\n",
    "plt.plot(x,y1)\n",
    "plt.show()"
   ]
  },
  {
   "cell_type": "markdown",
   "metadata": {},
   "source": [
    "### Analysis of model"
   ]
  },
  {
   "cell_type": "code",
   "execution_count": 17,
   "metadata": {},
   "outputs": [
    {
     "name": "stdout",
     "output_type": "stream",
     "text": [
      "Mean absolute erroe :  5167.764083724661\n",
      "Mean squared error :  41539334.032026336\n",
      "Root mean squared error :  6445.101553274885\n"
     ]
    }
   ],
   "source": [
    "from sklearn import metrics\n",
    "print(\"Mean absolute erroe : \",metrics.mean_absolute_error(y,y1))\n",
    "print(\"Mean squared error : \",metrics.mean_squared_error(y,y1))\n",
    "print(\"Root mean squared error : \",np.sqrt(metrics.mean_squared_error(y,y1)))"
   ]
  },
  {
   "cell_type": "markdown",
   "metadata": {},
   "source": [
    "***Select degree by looking at the error metrics***"
   ]
  },
  {
   "cell_type": "code",
   "execution_count": 18,
   "metadata": {},
   "outputs": [
    {
     "name": "stdout",
     "output_type": "stream",
     "text": [
      "[[49348.3032238]]\n"
     ]
    }
   ],
   "source": [
    "print(model.predict(obj.fit_transform([[8.5]])))\n",
    "#can NOT pass direct value; transform first"
   ]
  },
  {
   "cell_type": "code",
   "execution_count": 19,
   "metadata": {},
   "outputs": [
    {
     "name": "stdout",
     "output_type": "stream",
     "text": [
      "[[73356.57894737]]\n"
     ]
    }
   ],
   "source": [
    "#result using a linear regression model; for comparision\n",
    "\n",
    "model1=LinearRegression()\n",
    "model1.fit(x,y)\n",
    "print(model1.predict([[8.5]]))"
   ]
  },
  {
   "cell_type": "markdown",
   "metadata": {},
   "source": [
    "## Handling categorical values\n",
    "* pandas used"
   ]
  },
  {
   "cell_type": "code",
   "execution_count": 21,
   "metadata": {},
   "outputs": [
    {
     "name": "stdout",
     "output_type": "stream",
     "text": [
      "    Age Qualification  Gender  Salary\n",
      "id                                   \n",
      "1    28        Master    Male   50000\n",
      "2    30      Bachelor  Female   60000\n",
      "3    24        Master    Male   45000\n",
      "4    27           PhD    Male   52000\n",
      "5    28        Master    Male   53000\n",
      "6    20        Master  Female   42000\n",
      "7    21      Bachelor    Male   42000\n",
      "8    20      Bachelor  Female   30000\n",
      "9    26           PhD    Male   49000\n",
      "10   25      Bachelor    Male   49000\n",
      "\n",
      "id\n",
      "1       Master\n",
      "2     Bachelor\n",
      "3       Master\n",
      "4          PhD\n",
      "5       Master\n",
      "6       Master\n",
      "7     Bachelor\n",
      "8     Bachelor\n",
      "9          PhD\n",
      "10    Bachelor\n",
      "Name: Qualification, dtype: category\n",
      "Categories (3, object): [Bachelor < Master < PhD]\n",
      "\n",
      "id\n",
      "1     1\n",
      "2     0\n",
      "3     1\n",
      "4     2\n",
      "5     1\n",
      "6     1\n",
      "7     0\n",
      "8     0\n",
      "9     2\n",
      "10    0\n",
      "Name: Qualification, dtype: int8\n",
      "\n",
      "    Age  Qualification  Gender  Salary\n",
      "id                                    \n",
      "1    28              1    Male   50000\n",
      "2    30              0  Female   60000\n",
      "3    24              1    Male   45000\n",
      "4    27              2    Male   52000\n",
      "5    28              1    Male   53000\n",
      "6    20              1  Female   42000\n",
      "7    21              0    Male   42000\n",
      "8    20              0  Female   30000\n",
      "9    26              2    Male   49000\n",
      "10   25              0    Male   49000\n"
     ]
    }
   ],
   "source": [
    "import pandas as pd\n",
    "df = pd.read_csv(\"demo.csv\",index_col=0)\n",
    "print(df)\n",
    "df.Qualification = pd.Categorical(df.Qualification,['Bachelor','Master','PhD'],ordered=True)\n",
    "# bachelor = 0, Master = 1, PhD = 2\n",
    "print()\n",
    "print(df.Qualification)\n",
    "df.Qualification = df.Qualification.cat.codes\n",
    "print()\n",
    "print(df.Qualification)\n",
    "print()\n",
    "print(df)"
   ]
  },
  {
   "cell_type": "markdown",
   "metadata": {},
   "source": [
    "Note the conversion of catergorical data *Qualification* to numerical datatype."
   ]
  }
 ],
 "metadata": {
  "kernelspec": {
   "display_name": "Python 3",
   "language": "python",
   "name": "python3"
  },
  "language_info": {
   "codemirror_mode": {
    "name": "ipython",
    "version": 3
   },
   "file_extension": ".py",
   "mimetype": "text/x-python",
   "name": "python",
   "nbconvert_exporter": "python",
   "pygments_lexer": "ipython3",
   "version": "3.8.3"
  }
 },
 "nbformat": 4,
 "nbformat_minor": 4
}
