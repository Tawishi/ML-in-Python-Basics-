{
 "cells": [
  {
   "cell_type": "markdown",
   "metadata": {},
   "source": [
    "# Multiple Linear Regression\n",
    "* Uses more than one independent variable for prediction.<br>\n",
    "_The example below is a very simple multiple regression problem._"
   ]
  },
  {
   "cell_type": "markdown",
   "metadata": {},
   "source": [
    "### [Dummy variable trap](https://medium.com/datadriveninvestor/dummy-variable-trap-c6d4a387f10a)"
   ]
  },
  {
   "cell_type": "code",
   "execution_count": 14,
   "metadata": {},
   "outputs": [
    {
     "name": "stdout",
     "output_type": "stream",
     "text": [
      "    rooms  Area        City   Price\n",
      "0       5   400  Chandigarh  101.50\n",
      "1       3   300       Delhi   79.90\n",
      "2       5   375       Delhi   99.87\n",
      "3       3   200  Chandigarh   56.90\n",
      "4       2   150       Delhi   66.60\n",
      "5       5   450     Patiala  105.45\n",
      "6       5   300  Chandigarh  126.30\n",
      "7       4   300     Patiala   89.25\n",
      "8       5   300     Patiala   99.97\n",
      "9       3   200  Chandigarh   87.60\n",
      "10      4   300     Patiala  112.60\n",
      "11      3   200       Delhi   85.60\n",
      "12      3   200  Chandigarh   78.50\n",
      "13      2   160     Patiala   74.30\n",
      "14      2   150  Chandigarh   74.80\n",
      "    Delhi  Patiala\n",
      "0       0        0\n",
      "1       1        0\n",
      "2       1        0\n",
      "3       0        0\n",
      "4       1        0\n",
      "5       0        1\n",
      "6       0        0\n",
      "7       0        1\n",
      "8       0        1\n",
      "9       0        0\n",
      "10      0        1\n",
      "11      1        0\n",
      "12      0        0\n",
      "13      0        1\n",
      "14      0        0\n"
     ]
    }
   ],
   "source": [
    "import pandas as pd\n",
    "import numpy as np\n",
    "from sklearn.linear_model import LinearRegression\n",
    "import math\n",
    "\n",
    "data = pd.read_csv('houses_price_citywise.csv')\n",
    "print(data)\n",
    "\n",
    "#converting categorical values into dummy/indicator values\n",
    "d1=pd.get_dummies(data['City'],drop_first=True)\n",
    "print(d1)"
   ]
  },
  {
   "cell_type": "code",
   "execution_count": 15,
   "metadata": {},
   "outputs": [
    {
     "name": "stdout",
     "output_type": "stream",
     "text": [
      "    Delhi  Patiala  rooms  Area        City   Price\n",
      "0       0        0      5   400  Chandigarh  101.50\n",
      "1       1        0      3   300       Delhi   79.90\n",
      "2       1        0      5   375       Delhi   99.87\n",
      "3       0        0      3   200  Chandigarh   56.90\n",
      "4       1        0      2   150       Delhi   66.60\n",
      "5       0        1      5   450     Patiala  105.45\n",
      "6       0        0      5   300  Chandigarh  126.30\n",
      "7       0        1      4   300     Patiala   89.25\n",
      "8       0        1      5   300     Patiala   99.97\n",
      "9       0        0      3   200  Chandigarh   87.60\n",
      "10      0        1      4   300     Patiala  112.60\n",
      "11      1        0      3   200       Delhi   85.60\n",
      "12      0        0      3   200  Chandigarh   78.50\n",
      "13      0        1      2   160     Patiala   74.30\n",
      "14      0        0      2   150  Chandigarh   74.80\n",
      "    Delhi  Patiala  rooms  Area   Price\n",
      "0       0        0      5   400  101.50\n",
      "1       1        0      3   300   79.90\n",
      "2       1        0      5   375   99.87\n",
      "3       0        0      3   200   56.90\n",
      "4       1        0      2   150   66.60\n",
      "5       0        1      5   450  105.45\n",
      "6       0        0      5   300  126.30\n",
      "7       0        1      4   300   89.25\n",
      "8       0        1      5   300   99.97\n",
      "9       0        0      3   200   87.60\n",
      "10      0        1      4   300  112.60\n",
      "11      1        0      3   200   85.60\n",
      "12      0        0      3   200   78.50\n",
      "13      0        1      2   160   74.30\n",
      "14      0        0      2   150   74.80\n",
      "    Delhi  Patiala  rooms  Area\n",
      "0       0        0      5   400\n",
      "1       1        0      3   300\n",
      "2       1        0      5   375\n",
      "3       0        0      3   200\n",
      "4       1        0      2   150\n",
      "5       0        1      5   450\n",
      "6       0        0      5   300\n",
      "7       0        1      4   300\n",
      "8       0        1      5   300\n",
      "9       0        0      3   200\n",
      "10      0        1      4   300\n",
      "11      1        0      3   200\n",
      "12      0        0      3   200\n",
      "13      0        1      2   160\n",
      "14      0        0      2   150\n",
      "0     101.50\n",
      "1      79.90\n",
      "2      99.87\n",
      "3      56.90\n",
      "4      66.60\n",
      "5     105.45\n",
      "6     126.30\n",
      "7      89.25\n",
      "8      99.97\n",
      "9      87.60\n",
      "10    112.60\n",
      "11     85.60\n",
      "12     78.50\n",
      "13     74.30\n",
      "14     74.80\n",
      "Name: Price, dtype: float64\n",
      "[ 83.01817073  98.05693542 101.82763873]\n"
     ]
    }
   ],
   "source": [
    "#adding indicators to dataset\n",
    "data = pd.concat([d1,data],axis=1)\n",
    "print(data)\n",
    "\n",
    "#removing dummy data\n",
    "data = data.drop('City',axis=1)\n",
    "print(data)\n",
    "\n",
    "from sklearn.model_selection import train_test_split\n",
    "model = LinearRegression()\n",
    "X= data.iloc[:,:-1]\n",
    "Y = data.iloc[:,4]\n",
    "print(X)\n",
    "print(Y)\n",
    "x_train,x_test, y_train, y_test = train_test_split(X,Y,test_size=0.2,random_state=1)\n",
    "\n",
    "model.fit(x_train, y_train)\n",
    "pred= model.predict(x_test)\n",
    "print(pred)"
   ]
  },
  {
   "cell_type": "code",
   "execution_count": 16,
   "metadata": {},
   "outputs": [
    {
     "name": "stdout",
     "output_type": "stream",
     "text": [
      "0.43669347275875026\n"
     ]
    }
   ],
   "source": [
    "from sklearn.metrics import r2_score\n",
    "score = r2_score(y_test, pred)\n",
    "print(score)"
   ]
  },
  {
   "cell_type": "markdown",
   "metadata": {},
   "source": [
    "### Replacing NaN values"
   ]
  },
  {
   "cell_type": "code",
   "execution_count": 21,
   "metadata": {},
   "outputs": [
    {
     "name": "stdout",
     "output_type": "stream",
     "text": [
      "    rooms   Area   Price\n",
      "0       5  400.0  101.50\n",
      "1       3  300.0   79.90\n",
      "2       5  375.0   99.87\n",
      "3       3  200.0   56.90\n",
      "4       2  150.0   66.60\n",
      "5       5  450.0  105.45\n",
      "6       5  300.0  126.30\n",
      "7       4  300.0   89.25\n",
      "8       5    NaN   99.97\n",
      "9       3  200.0   87.60\n",
      "10      4  300.0  112.60\n",
      "11      3  200.0   85.60\n",
      "12      3  200.0   78.50\n",
      "13      2  160.0   74.30\n",
      "14      2  150.0   74.80\n",
      "\n",
      "250\n",
      "Traning data :\n",
      "     rooms   Area   Price\n",
      "0       5  400.0  101.50\n",
      "1       3  300.0   79.90\n",
      "2       5  375.0   99.87\n",
      "3       3  200.0   56.90\n",
      "4       2  150.0   66.60\n",
      "5       5  450.0  105.45\n",
      "6       5  300.0  126.30\n",
      "7       4  300.0   89.25\n",
      "8       5  250.0   99.97\n",
      "9       3  200.0   87.60\n",
      "10      4  300.0  112.60\n",
      "11      3  200.0   85.60\n",
      "12      3  200.0   78.50\n",
      "13      2  160.0   74.30\n",
      "14      2  150.0   74.80\n",
      "Test data:\n",
      "    rooms  Area\n",
      "0      5   400\n",
      "1      3   300\n",
      "2      5   375\n",
      "3      3   200\n",
      "4      2   150\n",
      "5      5   450\n",
      "6      5   300\n",
      "7      4   300\n",
      "8      5   250\n",
      "9      3   200\n",
      "Predicted prices for test data:\n",
      " [106.49  80.63 106.82  81.94  69.01 105.83 107.8   94.22 108.46  81.94]\n",
      "   rooms  Area  prices\n",
      "0      5   400  106.49\n",
      "1      3   300   80.63\n",
      "2      5   375  106.82\n",
      "3      3   200   81.94\n",
      "4      2   150   69.01\n",
      "5      5   450  105.83\n",
      "6      5   300  107.80\n",
      "7      4   300   94.22\n",
      "8      5   250  108.46\n",
      "9      3   200   81.94\n"
     ]
    }
   ],
   "source": [
    "import pandas as pd\n",
    "import numpy as np\n",
    "from sklearn.linear_model import LinearRegression\n",
    "import math\n",
    "\n",
    "data = pd.read_csv('houses_price_3_Columns.csv')\n",
    "print(data)\n",
    "print()\n",
    "print(math.floor(data.Area.median()))   #replace value for NaN \n",
    "\n",
    "model = LinearRegression()\n",
    "m_value = math.floor(data.Area.median())\n",
    "data.Area = data.Area.fillna(m_value)  #replacing NaN with floor of \"Area\" mean\n",
    "print(\"Traning data :\\n\",data)\n",
    "model.fit(data[['rooms','Area']],data.Price)\n",
    "\n",
    "data1= pd.read_csv('houses_input_data.csv')\n",
    "print(\"Test data:\\n\",data1)\n",
    "pred = np.round(model.predict(data1),2)\n",
    "print(\"Predicted prices for test data:\\n\",pred)\n",
    "\n",
    "#adding predictions to test data\n",
    "data1['prices'] = pred\n",
    "print(data1)\n",
    "data1.to_csv('output.csv',index=False)"
   ]
  }
 ],
 "metadata": {
  "kernelspec": {
   "display_name": "Python 3",
   "language": "python",
   "name": "python3"
  },
  "language_info": {
   "codemirror_mode": {
    "name": "ipython",
    "version": 3
   },
   "file_extension": ".py",
   "mimetype": "text/x-python",
   "name": "python",
   "nbconvert_exporter": "python",
   "pygments_lexer": "ipython3",
   "version": "3.8.3"
  }
 },
 "nbformat": 4,
 "nbformat_minor": 4
}
